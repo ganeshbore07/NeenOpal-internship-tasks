{
 "cells": [
  {
   "cell_type": "code",
   "execution_count": 1,
   "id": "1af92765",
   "metadata": {},
   "outputs": [],
   "source": [
    "import numpy as np\n",
    "import pandas as pd\n",
    "import os"
   ]
  },
  {
   "cell_type": "code",
   "execution_count": 2,
   "id": "5d3404f4",
   "metadata": {},
   "outputs": [],
   "source": [
    "#importing data from .csv file\n",
    "data=pd.read_csv('C:\\\\Users\\ADMIN\\\\Untitled Folder\\\\used_bikes.csv')"
   ]
  },
  {
   "cell_type": "code",
   "execution_count": 3,
   "id": "f481dbf7",
   "metadata": {},
   "outputs": [
    {
     "data": {
      "text/plain": [
       "bike_name      object\n",
       "price         float64\n",
       "city           object\n",
       "kms_driven    float64\n",
       "owner          object\n",
       "age           float64\n",
       "power         float64\n",
       "brand          object\n",
       "dtype: object"
      ]
     },
     "execution_count": 3,
     "metadata": {},
     "output_type": "execute_result"
    }
   ],
   "source": [
    "#checking datatypes of all columns\n",
    "data.dtypes"
   ]
  },
  {
   "cell_type": "code",
   "execution_count": 4,
   "id": "05cd2189",
   "metadata": {},
   "outputs": [
    {
     "name": "stdout",
     "output_type": "stream",
     "text": [
      "<class 'pandas.core.frame.DataFrame'>\n",
      "RangeIndex: 149 entries, 0 to 148\n",
      "Data columns (total 8 columns):\n",
      " #   Column      Non-Null Count  Dtype  \n",
      "---  ------      --------------  -----  \n",
      " 0   bike_name   149 non-null    object \n",
      " 1   price       149 non-null    float64\n",
      " 2   city        149 non-null    object \n",
      " 3   kms_driven  149 non-null    float64\n",
      " 4   owner       149 non-null    object \n",
      " 5   age         149 non-null    float64\n",
      " 6   power       149 non-null    float64\n",
      " 7   brand       149 non-null    object \n",
      "dtypes: float64(4), object(4)\n",
      "memory usage: 45.0 KB\n"
     ]
    }
   ],
   "source": [
    "data.info(memory_usage=\"deep\")"
   ]
  },
  {
   "cell_type": "code",
   "execution_count": 6,
   "id": "7b81c376",
   "metadata": {},
   "outputs": [
    {
     "name": "stdout",
     "output_type": "stream",
     "text": [
      "<class 'pandas.core.frame.DataFrame'>\n",
      "RangeIndex: 149 entries, 0 to 148\n",
      "Data columns (total 8 columns):\n",
      " #   Column      Non-Null Count  Dtype  \n",
      "---  ------      --------------  -----  \n",
      " 0   bike_name   149 non-null    object \n",
      " 1   price       149 non-null    float64\n",
      " 2   city        149 non-null    object \n",
      " 3   kms_driven  149 non-null    float64\n",
      " 4   owner       149 non-null    object \n",
      " 5   age         149 non-null    float64\n",
      " 6   power       149 non-null    float64\n",
      " 7   brand       149 non-null    object \n",
      "dtypes: float64(4), object(4)\n",
      "memory usage: 45.0 KB\n"
     ]
    }
   ],
   "source": [
    "data.info(memory_usage=\"deep\")"
   ]
  },
  {
   "cell_type": "code",
   "execution_count": 14,
   "id": "e68d38d4",
   "metadata": {},
   "outputs": [],
   "source": [
    "data['age']=data['age'].astype(int)"
   ]
  },
  {
   "cell_type": "code",
   "execution_count": 13,
   "id": "a4937d92",
   "metadata": {},
   "outputs": [],
   "source": [
    "data['price']=data['price'].astype(int)"
   ]
  },
  {
   "cell_type": "code",
   "execution_count": 11,
   "id": "0d028fbf",
   "metadata": {},
   "outputs": [],
   "source": [
    "data['power']=data['power'].astype(int)"
   ]
  },
  {
   "cell_type": "code",
   "execution_count": 16,
   "id": "daf35b0f",
   "metadata": {},
   "outputs": [],
   "source": [
    "data['bike_name']=data['bike_name'].astype(str)"
   ]
  },
  {
   "cell_type": "code",
   "execution_count": 17,
   "id": "ba4fb7ba",
   "metadata": {},
   "outputs": [],
   "source": [
    "data['price']=pd.to_numeric(data['price'],downcast='integer')"
   ]
  },
  {
   "cell_type": "code",
   "execution_count": 20,
   "id": "74e5bb13",
   "metadata": {},
   "outputs": [],
   "source": [
    "data['city']=data['city'].astype(str)"
   ]
  },
  {
   "cell_type": "code",
   "execution_count": 21,
   "id": "2ab09392",
   "metadata": {},
   "outputs": [
    {
     "name": "stdout",
     "output_type": "stream",
     "text": [
      "<class 'pandas.core.frame.DataFrame'>\n",
      "RangeIndex: 149 entries, 0 to 148\n",
      "Data columns (total 8 columns):\n",
      " #   Column      Non-Null Count  Dtype  \n",
      "---  ------      --------------  -----  \n",
      " 0   bike_name   149 non-null    object \n",
      " 1   price       149 non-null    int32  \n",
      " 2   city        149 non-null    object \n",
      " 3   kms_driven  149 non-null    float64\n",
      " 4   owner       149 non-null    object \n",
      " 5   age         149 non-null    int32  \n",
      " 6   power       149 non-null    int32  \n",
      " 7   brand       149 non-null    object \n",
      "dtypes: float64(1), int32(3), object(4)\n",
      "memory usage: 43.2 KB\n"
     ]
    }
   ],
   "source": [
    "data.info(memory_usage=\"deep\")"
   ]
  },
  {
   "cell_type": "code",
   "execution_count": null,
   "id": "933bf9eb",
   "metadata": {},
   "outputs": [],
   "source": []
  }
 ],
 "metadata": {
  "kernelspec": {
   "display_name": "Python 3 (ipykernel)",
   "language": "python",
   "name": "python3"
  },
  "language_info": {
   "codemirror_mode": {
    "name": "ipython",
    "version": 3
   },
   "file_extension": ".py",
   "mimetype": "text/x-python",
   "name": "python",
   "nbconvert_exporter": "python",
   "pygments_lexer": "ipython3",
   "version": "3.9.13"
  }
 },
 "nbformat": 4,
 "nbformat_minor": 5
}
